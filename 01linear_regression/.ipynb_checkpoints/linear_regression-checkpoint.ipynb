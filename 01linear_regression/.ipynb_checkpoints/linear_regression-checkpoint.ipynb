{
 "cells": [
  {
   "cell_type": "code",
   "execution_count": 1,
   "id": "f6388fc6",
   "metadata": {},
   "outputs": [],
   "source": [
    "import numpy as np\n",
    "import pandas as pd\n",
    "import matplotlib.pyplot as plt\n",
    "from sklearn.linear_model import LinearRegression"
   ]
  },
  {
   "cell_type": "code",
   "execution_count": 4,
   "id": "fb73468d",
   "metadata": {},
   "outputs": [],
   "source": [
    "# LOAD DATA FROM KAKLE\n",
    "data_train = pd.read_csv(\"../data/train.csv\")\n",
    "data_test = pd.read_csv(\"../data/test.csv\")"
   ]
  },
  {
   "cell_type": "markdown",
   "id": "1b14e54a",
   "metadata": {},
   "source": [
    "### EXPORE DATA"
   ]
  },
  {
   "cell_type": "code",
   "execution_count": 7,
   "id": "fd9d5c53",
   "metadata": {},
   "outputs": [
    {
     "name": "stdout",
     "output_type": "stream",
     "text": [
      "See the data sample:\n",
      "\n",
      "      x          y\n",
      "0  24.0  21.549452\n",
      "1  50.0  47.464463\n",
      "2  15.0  17.218656\n",
      "3  38.0  36.586398\n",
      "4  87.0  87.288984\n"
     ]
    }
   ],
   "source": [
    "# EXXPORE DATA\n",
    "print(\"See the data sample:\\n\")\n",
    "print(data_train.head())\n"
   ]
  },
  {
   "cell_type": "code",
   "execution_count": 70,
   "id": "faf7f976",
   "metadata": {},
   "outputs": [
    {
     "name": "stdout",
     "output_type": "stream",
     "text": [
      "See the summary of features:\n",
      "\n",
      "<class 'pandas.core.frame.DataFrame'>\n",
      "RangeIndex: 700 entries, 0 to 699\n",
      "Data columns (total 2 columns):\n",
      " #   Column  Non-Null Count  Dtype  \n",
      "---  ------  --------------  -----  \n",
      " 0   x       700 non-null    float64\n",
      " 1   y       699 non-null    float64\n",
      "dtypes: float64(2)\n",
      "memory usage: 11.1 KB\n",
      "None\n"
     ]
    }
   ],
   "source": [
    "print(\"See the summary of features:\\n\")\n",
    "print(data_train.info())"
   ]
  },
  {
   "cell_type": "code",
   "execution_count": 9,
   "id": "3c5897ea",
   "metadata": {},
   "outputs": [
    {
     "name": "stdout",
     "output_type": "stream",
     "text": [
      "Calculate basic stat of each feature:\n",
      "\n",
      "                 x           y\n",
      "count   700.000000  699.000000\n",
      "mean     54.985939   49.939869\n",
      "std     134.681703   29.109217\n",
      "min       0.000000   -3.839981\n",
      "25%      25.000000   24.929968\n",
      "50%      49.000000   48.973020\n",
      "75%      75.000000   74.929911\n",
      "max    3530.157369  108.871618\n"
     ]
    }
   ],
   "source": [
    "print(\"Calculate basic stat of each feature:\\n\")\n",
    "print(data_train.describe())"
   ]
  },
  {
   "cell_type": "code",
   "execution_count": 11,
   "id": "07ed6451",
   "metadata": {},
   "outputs": [
    {
     "data": {
      "text/plain": [
       "Text(0, 0.5, 'y')"
      ]
     },
     "execution_count": 11,
     "metadata": {},
     "output_type": "execute_result"
    },
    {
     "data": {
      "image/png": "[encoded data removed]",
      "text/plain": [
       "<Figure size 864x648 with 1 Axes>"
      ]
     },
     "metadata": {
      "needs_background": "light"
     },
     "output_type": "display_data"
    }
   ],
   "source": [
    "# VISUALISE THE DATA\n",
    "'''\n",
    "data_train['x'] = input\n",
    "data_train['y'] = label\n",
    "'''\n",
    "plt.figure(figsize=(12,9))\n",
    "plt.scatter(data_train[\"x\"], data_train[\"y\"])\n",
    "plt.xlabel(\"x\")\n",
    "plt.ylabel(\"y\")"
   ]
  },
  {
   "cell_type": "code",
   "execution_count": 72,
   "id": "eac401f8",
   "metadata": {},
   "outputs": [],
   "source": [
    "# NOW FORMAT is ONE DIMENTION\n",
    "# data_train['x']\n",
    "# data_train['y']"
   ]
  },
  {
   "cell_type": "code",
   "execution_count": 47,
   "id": "74521063",
   "metadata": {},
   "outputs": [],
   "source": [
    "# REFORMAT TO 2D\n",
    "'''\n",
    ".reshape(-1, 1) => (700, 1)\n",
    "'''\n",
    "X = np.array(data_train['x']).reshape(-1, 1)\n",
    "# X.shape\n",
    "Y = np.array(data_train['y']).reshape(-1, 1)\n",
    "# Y.shape\n",
    "X = np.array(data_test['x']).reshape(-1, 1)\n",
    "# X.shape\n",
    "Y = np.array(data_test['y']).reshape(-1, 1)\n",
    "# Y.shape"
   ]
  },
  {
   "cell_type": "markdown",
   "id": "f35978eb",
   "metadata": {},
   "source": [
    "### LINEAR REGRESSION\n",
    "LinearRegression fits a linear model with coefficients w = (w1, …, wp) \n",
    "to minimize the residual sum of squares between the observed targets in the dataset, \n",
    "and the targets predicted by the linear approximation.\n",
    "\n",
    "$$ \\hat y = wx + b $$"
   ]
  },
  {
   "cell_type": "code",
   "execution_count": 48,
   "id": "ea270a7c",
   "metadata": {},
   "outputs": [
    {
     "data": {
      "text/plain": [
       "LinearRegression()"
      ]
     },
     "execution_count": 48,
     "metadata": {},
     "output_type": "execute_result"
    }
   ],
   "source": [
    "# LEARNING RATE \n",
    "model = LinearRegression()\n",
    "\n",
    "model.fit(X, Y)"
   ]
  },
  {
   "cell_type": "code",
   "execution_count": 60,
   "id": "6eacde3e",
   "metadata": {},
   "outputs": [
    {
     "name": "stdout",
     "output_type": "stream",
     "text": [
      "[[1.01433536]]\n",
      "[-0.46181077]\n"
     ]
    }
   ],
   "source": [
    "# Coeffician % Intercept\n",
    "print(model.coef_)\n",
    "print(model.intercept_)"
   ]
  },
  {
   "cell_type": "markdown",
   "id": "77d0ea3c",
   "metadata": {},
   "source": [
    "### SUMMARY \n",
    "The coef and bias will be below,\n",
    "$$ \\hat y = 1.0143x - 0.4618 $$"
   ]
  },
  {
   "cell_type": "code",
   "execution_count": 65,
   "id": "991eac7d",
   "metadata": {},
   "outputs": [
    {
     "name": "stdout",
     "output_type": "stream",
     "text": [
      "Summary : Y = 1.014335355119518x + -0.4618107736611847\n"
     ]
    }
   ],
   "source": [
    "parameter = f\"Y = {model.coef_[0][0]}x + {model.intercept_[0]}\"\n",
    "print(\"Summary :\",parameter)"
   ]
  },
  {
   "cell_type": "code",
   "execution_count": 68,
   "id": "0a9d2e81",
   "metadata": {},
   "outputs": [
    {
     "name": "stdout",
     "output_type": "stream",
     "text": [
      "Trainset accuracy = 0.9891203611402716\n",
      "Trainset accuracy = 0.9891242777704848\n"
     ]
    }
   ],
   "source": [
    "# EVALUATE MODEL ON TRAINSET & TESTSET\n",
    "print(\"Trainset accuracy = \" + str(model.score(X, Y)))\n",
    "print(\"Trainset accuracy = \" + str(model.score(Xtest, Ytest)))"
   ]
  },
  {
   "cell_type": "code",
   "execution_count": 69,
   "id": "e3c31c92",
   "metadata": {},
   "outputs": [
    {
     "data": {
      "image/png": "[encoded data removed]",
      "text/plain": [
       "<Figure size 864x648 with 1 Axes>"
      ]
     },
     "metadata": {
      "needs_background": "light"
     },
     "output_type": "display_data"
    }
   ],
   "source": [
    "# VISUALISE \n",
    "\n",
    "predict = model.predict(Xtest)\n",
    "\n",
    "plt.figure(figsize=(12, 9))\n",
    "plt.scatter(Xtest, Ytest)\n",
    "plt.plot(Xtest, predict, color='red', linewidth=2)\n",
    "plt.show()"
   ]
  },
  {
   "cell_type": "code",
   "execution_count": null,
   "id": "3f37d396",
   "metadata": {},
   "outputs": [],
   "source": []
  }
 ],
 "metadata": {
  "kernelspec": {
   "display_name": "Python 3 (ipykernel)",
   "language": "python",
   "name": "python3"
  },
  "language_info": {
   "codemirror_mode": {
    "name": "ipython",
    "version": 3
   },
   "file_extension": ".py",
   "mimetype": "text/x-python",
   "name": "python",
   "nbconvert_exporter": "python",
   "pygments_lexer": "ipython3",
   "version": "3.8.13"
  }
 },
 "nbformat": 4,
 "nbformat_minor": 5
}
